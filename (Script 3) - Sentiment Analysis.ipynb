{
 "cells": [
  {
   "cell_type": "code",
   "execution_count": 33,
   "source": [
    "from transformers import pipeline\n",
    "import pandas as pd\n",
    "from tqdm import tqdm"
   ],
   "outputs": [],
   "metadata": {}
  },
  {
   "cell_type": "markdown",
   "source": [
    "## Testing HuggingFace Sentiment Analysis"
   ],
   "metadata": {}
  },
  {
   "cell_type": "code",
   "execution_count": 2,
   "source": [
    "classifier = pipeline('sentiment-analysis')"
   ],
   "outputs": [
    {
     "output_type": "stream",
     "name": "stderr",
     "text": [
      "2021-07-22 17:55:44.852103: I tensorflow/core/platform/cpu_feature_guard.cc:142] This TensorFlow binary is optimized with oneAPI Deep Neural Network Library (oneDNN) to use the following CPU instructions in performance-critical operations:  SSE4.1 SSE4.2 AVX AVX2 FMA\n",
      "To enable them in other operations, rebuild TensorFlow with the appropriate compiler flags.\n",
      "2021-07-22 17:55:44.872884: W tensorflow/python/util/util.cc:348] Sets are not currently considered sequences, but this may change in the future, so consider avoiding using them.\n",
      "All model checkpoint layers were used when initializing TFDistilBertForSequenceClassification.\n",
      "\n",
      "All the layers of TFDistilBertForSequenceClassification were initialized from the model checkpoint at distilbert-base-uncased-finetuned-sst-2-english.\n",
      "If your task is similar to the task the model of the checkpoint was trained on, you can already use TFDistilBertForSequenceClassification for predictions without further training.\n"
     ]
    }
   ],
   "metadata": {}
  },
  {
   "cell_type": "code",
   "execution_count": 19,
   "source": [
    "classifier('I hate data science')"
   ],
   "outputs": [
    {
     "output_type": "execute_result",
     "data": {
      "text/plain": [
       "[{'label': 'NEGATIVE', 'score': 0.9996753334999084}]"
      ]
     },
     "metadata": {},
     "execution_count": 19
    }
   ],
   "metadata": {}
  },
  {
   "cell_type": "code",
   "execution_count": 20,
   "source": [
    "classifier('​this product is crap')"
   ],
   "outputs": [
    {
     "output_type": "execute_result",
     "data": {
      "text/plain": [
       "[{'label': 'NEGATIVE', 'score': 0.9998071193695068}]"
      ]
     },
     "metadata": {},
     "execution_count": 20
    }
   ],
   "metadata": {}
  },
  {
   "cell_type": "code",
   "execution_count": 21,
   "source": [
    "classifier(\"We are disheartened to hear that you didn't like our product.\")"
   ],
   "outputs": [
    {
     "output_type": "execute_result",
     "data": {
      "text/plain": [
       "[{'label': 'NEGATIVE', 'score': 0.9994601607322693}]"
      ]
     },
     "metadata": {},
     "execution_count": 21
    }
   ],
   "metadata": {}
  },
  {
   "cell_type": "code",
   "execution_count": 22,
   "source": [
    "classifier(\"Wouldn't recommend the produced came half bashed and overall didn't even work.\")"
   ],
   "outputs": [
    {
     "output_type": "execute_result",
     "data": {
      "text/plain": [
       "[{'label': 'NEGATIVE', 'score': 0.9998005628585815}]"
      ]
     },
     "metadata": {},
     "execution_count": 22
    }
   ],
   "metadata": {}
  },
  {
   "cell_type": "code",
   "execution_count": 23,
   "source": [
    "classifier(\"​I hate this product, bad advertisement, it broke down\")"
   ],
   "outputs": [
    {
     "output_type": "execute_result",
     "data": {
      "text/plain": [
       "[{'label': 'NEGATIVE', 'score': 0.9998100399971008}]"
      ]
     },
     "metadata": {},
     "execution_count": 23
    }
   ],
   "metadata": {}
  },
  {
   "cell_type": "code",
   "execution_count": 25,
   "source": [
    "classifier(\"I love data science\")"
   ],
   "outputs": [
    {
     "output_type": "execute_result",
     "data": {
      "text/plain": [
       "[{'label': 'POSITIVE', 'score': 0.9998250007629395}]"
      ]
     },
     "metadata": {},
     "execution_count": 25
    }
   ],
   "metadata": {}
  },
  {
   "cell_type": "markdown",
   "source": [
    "## Testing HFace Functionality"
   ],
   "metadata": {}
  },
  {
   "cell_type": "code",
   "execution_count": 27,
   "source": [
    "classifier(data_import.iloc[1989, 1])"
   ],
   "outputs": [
    {
     "output_type": "execute_result",
     "data": {
      "text/plain": [
       "[{'label': 'NEGATIVE', 'score': 0.9992116093635559}]"
      ]
     },
     "metadata": {},
     "execution_count": 27
    }
   ],
   "metadata": {}
  },
  {
   "cell_type": "markdown",
   "source": [
    "## Bringing in Amazon Data"
   ],
   "metadata": {}
  },
  {
   "cell_type": "code",
   "execution_count": 6,
   "source": [
    "data_import = pd.read_csv(\"amazon_roomba_reviews.csv\")\n",
    "data_import"
   ],
   "outputs": [
    {
     "output_type": "execute_result",
     "data": {
      "text/plain": [
       "                   Stars                                        Review Text  \\\n",
       "0     5.0 out of 5 stars  My dog, as much as I love him, sheds like craz...   \n",
       "1     1.0 out of 5 stars  Roomba confirmed that this product will not wo...   \n",
       "2     5.0 out of 5 stars  We've heard nothing but good things from frien...   \n",
       "3     4.0 out of 5 stars  I bought this Roomba 675 when it was on sale o...   \n",
       "4     1.0 out of 5 stars  This is driving me crazy.  The job is finished...   \n",
       "...                  ...                                                ...   \n",
       "1985  3.0 out of 5 stars  This was my second robot vaccuum, and unfortun...   \n",
       "1986  5.0 out of 5 stars  Had an Ecovac previously. I was a bit concerne...   \n",
       "1987  4.0 out of 5 stars  I love this robot. We have had it for 3 days n...   \n",
       "1988  4.0 out of 5 stars  Works well, but very slow and loud. It’s hard ...   \n",
       "1989  1.0 out of 5 stars  This item is terrible. I bought one for myself...   \n",
       "\n",
       "                                            Review Date  \\\n",
       "0     Reviewed in the United States on November 29, ...   \n",
       "1        Reviewed in the United States on June 19, 2020   \n",
       "2     Reviewed in the United States on September 30,...   \n",
       "3         Reviewed in the United States on May 30, 2020   \n",
       "4     Reviewed in the United States on January 26, 2019   \n",
       "...                                                 ...   \n",
       "1985  Reviewed in the United States on November 12, ...   \n",
       "1986   Reviewed in the United States on January 4, 2021   \n",
       "1987     Reviewed in the United States on July 12, 2021   \n",
       "1988  Reviewed in the United States on December 26, ...   \n",
       "1989    Reviewed in the United States on March 16, 2021   \n",
       "\n",
       "                  Review Usefulness  Random  \n",
       "0       3 people found this helpful       1  \n",
       "1       3 people found this helpful       1  \n",
       "2       3 people found this helpful       1  \n",
       "3       3 people found this helpful       1  \n",
       "4       3 people found this helpful       1  \n",
       "...                             ...     ...  \n",
       "1985  One person found this helpful       1  \n",
       "1986  One person found this helpful       1  \n",
       "1987  One person found this helpful       1  \n",
       "1988  One person found this helpful       1  \n",
       "1989  One person found this helpful       1  \n",
       "\n",
       "[1990 rows x 5 columns]"
      ],
      "text/html": [
       "<div>\n",
       "<style scoped>\n",
       "    .dataframe tbody tr th:only-of-type {\n",
       "        vertical-align: middle;\n",
       "    }\n",
       "\n",
       "    .dataframe tbody tr th {\n",
       "        vertical-align: top;\n",
       "    }\n",
       "\n",
       "    .dataframe thead th {\n",
       "        text-align: right;\n",
       "    }\n",
       "</style>\n",
       "<table border=\"1\" class=\"dataframe\">\n",
       "  <thead>\n",
       "    <tr style=\"text-align: right;\">\n",
       "      <th></th>\n",
       "      <th>Stars</th>\n",
       "      <th>Review Text</th>\n",
       "      <th>Review Date</th>\n",
       "      <th>Review Usefulness</th>\n",
       "      <th>Random</th>\n",
       "    </tr>\n",
       "  </thead>\n",
       "  <tbody>\n",
       "    <tr>\n",
       "      <th>0</th>\n",
       "      <td>5.0 out of 5 stars</td>\n",
       "      <td>My dog, as much as I love him, sheds like craz...</td>\n",
       "      <td>Reviewed in the United States on November 29, ...</td>\n",
       "      <td>3 people found this helpful</td>\n",
       "      <td>1</td>\n",
       "    </tr>\n",
       "    <tr>\n",
       "      <th>1</th>\n",
       "      <td>1.0 out of 5 stars</td>\n",
       "      <td>Roomba confirmed that this product will not wo...</td>\n",
       "      <td>Reviewed in the United States on June 19, 2020</td>\n",
       "      <td>3 people found this helpful</td>\n",
       "      <td>1</td>\n",
       "    </tr>\n",
       "    <tr>\n",
       "      <th>2</th>\n",
       "      <td>5.0 out of 5 stars</td>\n",
       "      <td>We've heard nothing but good things from frien...</td>\n",
       "      <td>Reviewed in the United States on September 30,...</td>\n",
       "      <td>3 people found this helpful</td>\n",
       "      <td>1</td>\n",
       "    </tr>\n",
       "    <tr>\n",
       "      <th>3</th>\n",
       "      <td>4.0 out of 5 stars</td>\n",
       "      <td>I bought this Roomba 675 when it was on sale o...</td>\n",
       "      <td>Reviewed in the United States on May 30, 2020</td>\n",
       "      <td>3 people found this helpful</td>\n",
       "      <td>1</td>\n",
       "    </tr>\n",
       "    <tr>\n",
       "      <th>4</th>\n",
       "      <td>1.0 out of 5 stars</td>\n",
       "      <td>This is driving me crazy.  The job is finished...</td>\n",
       "      <td>Reviewed in the United States on January 26, 2019</td>\n",
       "      <td>3 people found this helpful</td>\n",
       "      <td>1</td>\n",
       "    </tr>\n",
       "    <tr>\n",
       "      <th>...</th>\n",
       "      <td>...</td>\n",
       "      <td>...</td>\n",
       "      <td>...</td>\n",
       "      <td>...</td>\n",
       "      <td>...</td>\n",
       "    </tr>\n",
       "    <tr>\n",
       "      <th>1985</th>\n",
       "      <td>3.0 out of 5 stars</td>\n",
       "      <td>This was my second robot vaccuum, and unfortun...</td>\n",
       "      <td>Reviewed in the United States on November 12, ...</td>\n",
       "      <td>One person found this helpful</td>\n",
       "      <td>1</td>\n",
       "    </tr>\n",
       "    <tr>\n",
       "      <th>1986</th>\n",
       "      <td>5.0 out of 5 stars</td>\n",
       "      <td>Had an Ecovac previously. I was a bit concerne...</td>\n",
       "      <td>Reviewed in the United States on January 4, 2021</td>\n",
       "      <td>One person found this helpful</td>\n",
       "      <td>1</td>\n",
       "    </tr>\n",
       "    <tr>\n",
       "      <th>1987</th>\n",
       "      <td>4.0 out of 5 stars</td>\n",
       "      <td>I love this robot. We have had it for 3 days n...</td>\n",
       "      <td>Reviewed in the United States on July 12, 2021</td>\n",
       "      <td>One person found this helpful</td>\n",
       "      <td>1</td>\n",
       "    </tr>\n",
       "    <tr>\n",
       "      <th>1988</th>\n",
       "      <td>4.0 out of 5 stars</td>\n",
       "      <td>Works well, but very slow and loud. It’s hard ...</td>\n",
       "      <td>Reviewed in the United States on December 26, ...</td>\n",
       "      <td>One person found this helpful</td>\n",
       "      <td>1</td>\n",
       "    </tr>\n",
       "    <tr>\n",
       "      <th>1989</th>\n",
       "      <td>1.0 out of 5 stars</td>\n",
       "      <td>This item is terrible. I bought one for myself...</td>\n",
       "      <td>Reviewed in the United States on March 16, 2021</td>\n",
       "      <td>One person found this helpful</td>\n",
       "      <td>1</td>\n",
       "    </tr>\n",
       "  </tbody>\n",
       "</table>\n",
       "<p>1990 rows × 5 columns</p>\n",
       "</div>"
      ]
     },
     "metadata": {},
     "execution_count": 6
    }
   ],
   "metadata": {}
  },
  {
   "cell_type": "code",
   "execution_count": 35,
   "source": [
    "sentiment_label = []\n",
    "sentiment_score = []\n",
    "counter = 0\n",
    "for review in tqdm(data_import[\"Review Text\"]):\n",
    "    review = review[:512]\n",
    "    classification = classifier(review)[0]\n",
    "    sentiment_label.append(classification.get(\"label\"))\n",
    "    sentiment_score.append(classification.get(\"score\"))\n",
    "    # print(counter)\n",
    "    counter+=1\n"
   ],
   "outputs": [
    {
     "output_type": "stream",
     "name": "stderr",
     "text": [
      "100%|██████████| 1990/1990 [06:01<00:00,  5.50it/s]\n"
     ]
    }
   ],
   "metadata": {}
  },
  {
   "cell_type": "code",
   "execution_count": 36,
   "source": [
    "sentiment_data = pd.DataFrame(data={\"Sentiment Label\":sentiment_label, \"Sentiment Score\":sentiment_score})\n",
    "sentiment_data"
   ],
   "outputs": [
    {
     "output_type": "execute_result",
     "data": {
      "text/plain": [
       "     Sentiment Label  Sentiment Score\n",
       "0           NEGATIVE         0.995330\n",
       "1           NEGATIVE         0.999726\n",
       "2           NEGATIVE         0.998067\n",
       "3           POSITIVE         0.851761\n",
       "4           NEGATIVE         0.999309\n",
       "...              ...              ...\n",
       "1985        NEGATIVE         0.999685\n",
       "1986        POSITIVE         0.997915\n",
       "1987        POSITIVE         0.996177\n",
       "1988        POSITIVE         0.992265\n",
       "1989        NEGATIVE         0.999521\n",
       "\n",
       "[1990 rows x 2 columns]"
      ],
      "text/html": [
       "<div>\n",
       "<style scoped>\n",
       "    .dataframe tbody tr th:only-of-type {\n",
       "        vertical-align: middle;\n",
       "    }\n",
       "\n",
       "    .dataframe tbody tr th {\n",
       "        vertical-align: top;\n",
       "    }\n",
       "\n",
       "    .dataframe thead th {\n",
       "        text-align: right;\n",
       "    }\n",
       "</style>\n",
       "<table border=\"1\" class=\"dataframe\">\n",
       "  <thead>\n",
       "    <tr style=\"text-align: right;\">\n",
       "      <th></th>\n",
       "      <th>Sentiment Label</th>\n",
       "      <th>Sentiment Score</th>\n",
       "    </tr>\n",
       "  </thead>\n",
       "  <tbody>\n",
       "    <tr>\n",
       "      <th>0</th>\n",
       "      <td>NEGATIVE</td>\n",
       "      <td>0.995330</td>\n",
       "    </tr>\n",
       "    <tr>\n",
       "      <th>1</th>\n",
       "      <td>NEGATIVE</td>\n",
       "      <td>0.999726</td>\n",
       "    </tr>\n",
       "    <tr>\n",
       "      <th>2</th>\n",
       "      <td>NEGATIVE</td>\n",
       "      <td>0.998067</td>\n",
       "    </tr>\n",
       "    <tr>\n",
       "      <th>3</th>\n",
       "      <td>POSITIVE</td>\n",
       "      <td>0.851761</td>\n",
       "    </tr>\n",
       "    <tr>\n",
       "      <th>4</th>\n",
       "      <td>NEGATIVE</td>\n",
       "      <td>0.999309</td>\n",
       "    </tr>\n",
       "    <tr>\n",
       "      <th>...</th>\n",
       "      <td>...</td>\n",
       "      <td>...</td>\n",
       "    </tr>\n",
       "    <tr>\n",
       "      <th>1985</th>\n",
       "      <td>NEGATIVE</td>\n",
       "      <td>0.999685</td>\n",
       "    </tr>\n",
       "    <tr>\n",
       "      <th>1986</th>\n",
       "      <td>POSITIVE</td>\n",
       "      <td>0.997915</td>\n",
       "    </tr>\n",
       "    <tr>\n",
       "      <th>1987</th>\n",
       "      <td>POSITIVE</td>\n",
       "      <td>0.996177</td>\n",
       "    </tr>\n",
       "    <tr>\n",
       "      <th>1988</th>\n",
       "      <td>POSITIVE</td>\n",
       "      <td>0.992265</td>\n",
       "    </tr>\n",
       "    <tr>\n",
       "      <th>1989</th>\n",
       "      <td>NEGATIVE</td>\n",
       "      <td>0.999521</td>\n",
       "    </tr>\n",
       "  </tbody>\n",
       "</table>\n",
       "<p>1990 rows × 2 columns</p>\n",
       "</div>"
      ]
     },
     "metadata": {},
     "execution_count": 36
    }
   ],
   "metadata": {}
  },
  {
   "cell_type": "code",
   "execution_count": 37,
   "source": [
    "output = pd.concat([data_import, sentiment_data], axis=1)\n",
    "output"
   ],
   "outputs": [
    {
     "output_type": "execute_result",
     "data": {
      "text/plain": [
       "                   Stars                                        Review Text  \\\n",
       "0     5.0 out of 5 stars  My dog, as much as I love him, sheds like craz...   \n",
       "1     1.0 out of 5 stars  Roomba confirmed that this product will not wo...   \n",
       "2     5.0 out of 5 stars  We've heard nothing but good things from frien...   \n",
       "3     4.0 out of 5 stars  I bought this Roomba 675 when it was on sale o...   \n",
       "4     1.0 out of 5 stars  This is driving me crazy.  The job is finished...   \n",
       "...                  ...                                                ...   \n",
       "1985  3.0 out of 5 stars  This was my second robot vaccuum, and unfortun...   \n",
       "1986  5.0 out of 5 stars  Had an Ecovac previously. I was a bit concerne...   \n",
       "1987  4.0 out of 5 stars  I love this robot. We have had it for 3 days n...   \n",
       "1988  4.0 out of 5 stars  Works well, but very slow and loud. It’s hard ...   \n",
       "1989  1.0 out of 5 stars  This item is terrible. I bought one for myself...   \n",
       "\n",
       "                                            Review Date  \\\n",
       "0     Reviewed in the United States on November 29, ...   \n",
       "1        Reviewed in the United States on June 19, 2020   \n",
       "2     Reviewed in the United States on September 30,...   \n",
       "3         Reviewed in the United States on May 30, 2020   \n",
       "4     Reviewed in the United States on January 26, 2019   \n",
       "...                                                 ...   \n",
       "1985  Reviewed in the United States on November 12, ...   \n",
       "1986   Reviewed in the United States on January 4, 2021   \n",
       "1987     Reviewed in the United States on July 12, 2021   \n",
       "1988  Reviewed in the United States on December 26, ...   \n",
       "1989    Reviewed in the United States on March 16, 2021   \n",
       "\n",
       "                  Review Usefulness  Random Sentiment Label  Sentiment Score  \n",
       "0       3 people found this helpful       1        NEGATIVE         0.995330  \n",
       "1       3 people found this helpful       1        NEGATIVE         0.999726  \n",
       "2       3 people found this helpful       1        NEGATIVE         0.998067  \n",
       "3       3 people found this helpful       1        POSITIVE         0.851761  \n",
       "4       3 people found this helpful       1        NEGATIVE         0.999309  \n",
       "...                             ...     ...             ...              ...  \n",
       "1985  One person found this helpful       1        NEGATIVE         0.999685  \n",
       "1986  One person found this helpful       1        POSITIVE         0.997915  \n",
       "1987  One person found this helpful       1        POSITIVE         0.996177  \n",
       "1988  One person found this helpful       1        POSITIVE         0.992265  \n",
       "1989  One person found this helpful       1        NEGATIVE         0.999521  \n",
       "\n",
       "[1990 rows x 7 columns]"
      ],
      "text/html": [
       "<div>\n",
       "<style scoped>\n",
       "    .dataframe tbody tr th:only-of-type {\n",
       "        vertical-align: middle;\n",
       "    }\n",
       "\n",
       "    .dataframe tbody tr th {\n",
       "        vertical-align: top;\n",
       "    }\n",
       "\n",
       "    .dataframe thead th {\n",
       "        text-align: right;\n",
       "    }\n",
       "</style>\n",
       "<table border=\"1\" class=\"dataframe\">\n",
       "  <thead>\n",
       "    <tr style=\"text-align: right;\">\n",
       "      <th></th>\n",
       "      <th>Stars</th>\n",
       "      <th>Review Text</th>\n",
       "      <th>Review Date</th>\n",
       "      <th>Review Usefulness</th>\n",
       "      <th>Random</th>\n",
       "      <th>Sentiment Label</th>\n",
       "      <th>Sentiment Score</th>\n",
       "    </tr>\n",
       "  </thead>\n",
       "  <tbody>\n",
       "    <tr>\n",
       "      <th>0</th>\n",
       "      <td>5.0 out of 5 stars</td>\n",
       "      <td>My dog, as much as I love him, sheds like craz...</td>\n",
       "      <td>Reviewed in the United States on November 29, ...</td>\n",
       "      <td>3 people found this helpful</td>\n",
       "      <td>1</td>\n",
       "      <td>NEGATIVE</td>\n",
       "      <td>0.995330</td>\n",
       "    </tr>\n",
       "    <tr>\n",
       "      <th>1</th>\n",
       "      <td>1.0 out of 5 stars</td>\n",
       "      <td>Roomba confirmed that this product will not wo...</td>\n",
       "      <td>Reviewed in the United States on June 19, 2020</td>\n",
       "      <td>3 people found this helpful</td>\n",
       "      <td>1</td>\n",
       "      <td>NEGATIVE</td>\n",
       "      <td>0.999726</td>\n",
       "    </tr>\n",
       "    <tr>\n",
       "      <th>2</th>\n",
       "      <td>5.0 out of 5 stars</td>\n",
       "      <td>We've heard nothing but good things from frien...</td>\n",
       "      <td>Reviewed in the United States on September 30,...</td>\n",
       "      <td>3 people found this helpful</td>\n",
       "      <td>1</td>\n",
       "      <td>NEGATIVE</td>\n",
       "      <td>0.998067</td>\n",
       "    </tr>\n",
       "    <tr>\n",
       "      <th>3</th>\n",
       "      <td>4.0 out of 5 stars</td>\n",
       "      <td>I bought this Roomba 675 when it was on sale o...</td>\n",
       "      <td>Reviewed in the United States on May 30, 2020</td>\n",
       "      <td>3 people found this helpful</td>\n",
       "      <td>1</td>\n",
       "      <td>POSITIVE</td>\n",
       "      <td>0.851761</td>\n",
       "    </tr>\n",
       "    <tr>\n",
       "      <th>4</th>\n",
       "      <td>1.0 out of 5 stars</td>\n",
       "      <td>This is driving me crazy.  The job is finished...</td>\n",
       "      <td>Reviewed in the United States on January 26, 2019</td>\n",
       "      <td>3 people found this helpful</td>\n",
       "      <td>1</td>\n",
       "      <td>NEGATIVE</td>\n",
       "      <td>0.999309</td>\n",
       "    </tr>\n",
       "    <tr>\n",
       "      <th>...</th>\n",
       "      <td>...</td>\n",
       "      <td>...</td>\n",
       "      <td>...</td>\n",
       "      <td>...</td>\n",
       "      <td>...</td>\n",
       "      <td>...</td>\n",
       "      <td>...</td>\n",
       "    </tr>\n",
       "    <tr>\n",
       "      <th>1985</th>\n",
       "      <td>3.0 out of 5 stars</td>\n",
       "      <td>This was my second robot vaccuum, and unfortun...</td>\n",
       "      <td>Reviewed in the United States on November 12, ...</td>\n",
       "      <td>One person found this helpful</td>\n",
       "      <td>1</td>\n",
       "      <td>NEGATIVE</td>\n",
       "      <td>0.999685</td>\n",
       "    </tr>\n",
       "    <tr>\n",
       "      <th>1986</th>\n",
       "      <td>5.0 out of 5 stars</td>\n",
       "      <td>Had an Ecovac previously. I was a bit concerne...</td>\n",
       "      <td>Reviewed in the United States on January 4, 2021</td>\n",
       "      <td>One person found this helpful</td>\n",
       "      <td>1</td>\n",
       "      <td>POSITIVE</td>\n",
       "      <td>0.997915</td>\n",
       "    </tr>\n",
       "    <tr>\n",
       "      <th>1987</th>\n",
       "      <td>4.0 out of 5 stars</td>\n",
       "      <td>I love this robot. We have had it for 3 days n...</td>\n",
       "      <td>Reviewed in the United States on July 12, 2021</td>\n",
       "      <td>One person found this helpful</td>\n",
       "      <td>1</td>\n",
       "      <td>POSITIVE</td>\n",
       "      <td>0.996177</td>\n",
       "    </tr>\n",
       "    <tr>\n",
       "      <th>1988</th>\n",
       "      <td>4.0 out of 5 stars</td>\n",
       "      <td>Works well, but very slow and loud. It’s hard ...</td>\n",
       "      <td>Reviewed in the United States on December 26, ...</td>\n",
       "      <td>One person found this helpful</td>\n",
       "      <td>1</td>\n",
       "      <td>POSITIVE</td>\n",
       "      <td>0.992265</td>\n",
       "    </tr>\n",
       "    <tr>\n",
       "      <th>1989</th>\n",
       "      <td>1.0 out of 5 stars</td>\n",
       "      <td>This item is terrible. I bought one for myself...</td>\n",
       "      <td>Reviewed in the United States on March 16, 2021</td>\n",
       "      <td>One person found this helpful</td>\n",
       "      <td>1</td>\n",
       "      <td>NEGATIVE</td>\n",
       "      <td>0.999521</td>\n",
       "    </tr>\n",
       "  </tbody>\n",
       "</table>\n",
       "<p>1990 rows × 7 columns</p>\n",
       "</div>"
      ]
     },
     "metadata": {},
     "execution_count": 37
    }
   ],
   "metadata": {}
  },
  {
   "cell_type": "code",
   "execution_count": 38,
   "source": [
    "output.to_csv(\"amazon_roomba_reviews_w_sentiment.csv\", index=False)"
   ],
   "outputs": [],
   "metadata": {}
  },
  {
   "cell_type": "markdown",
   "source": [],
   "metadata": {}
  }
 ],
 "metadata": {
  "orig_nbformat": 4,
  "language_info": {
   "name": "python",
   "version": "3.8.10",
   "mimetype": "text/x-python",
   "codemirror_mode": {
    "name": "ipython",
    "version": 3
   },
   "pygments_lexer": "ipython3",
   "nbconvert_exporter": "python",
   "file_extension": ".py"
  },
  "kernelspec": {
   "name": "python3",
   "display_name": "Python 3.8.10 64-bit ('hface': conda)"
  },
  "interpreter": {
   "hash": "04199480e2d7f8a36d2516a00a60c0a9020fe035f6e23c635ea24be8bf7d826b"
  }
 },
 "nbformat": 4,
 "nbformat_minor": 2
}