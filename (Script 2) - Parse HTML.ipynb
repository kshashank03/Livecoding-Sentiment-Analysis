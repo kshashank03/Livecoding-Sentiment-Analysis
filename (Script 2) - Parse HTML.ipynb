{
 "cells": [
  {
   "cell_type": "markdown",
   "source": [
    "# Web Parser"
   ],
   "metadata": {}
  },
  {
   "cell_type": "code",
   "execution_count": 1,
   "source": [
    "import pandas as pd\n",
    "from bs4 import BeautifulSoup"
   ],
   "outputs": [],
   "metadata": {}
  },
  {
   "cell_type": "markdown",
   "source": [
    "### What we want\n",
    "\n",
    "* Username\n",
    "* Review Text\n",
    "* Review star count\n",
    "* Review Date"
   ],
   "metadata": {}
  },
  {
   "cell_type": "code",
   "execution_count": 15,
   "source": [
    "with open(\"amazon_roomba_reviews/2.html\", 'r') as reader:\n",
    "    html_string = reader.read()\n",
    "    soup = BeautifulSoup(html_string, 'html.parser')\n",
    "\n",
    "soup.find_all(class_=\"a-section a-spacing-none reviews-content a-size-base\")[0]\n",
    "soup.find_all(class_=\"review-rating\")[0].text # Review stars"
   ],
   "outputs": [
    {
     "output_type": "execute_result",
     "data": {
      "text/plain": [
       "'5.0 out of 5 stars'"
      ]
     },
     "metadata": {},
     "execution_count": 15
    }
   ],
   "metadata": {}
  },
  {
   "cell_type": "code",
   "execution_count": 14,
   "source": [
    "soup.find_all(class_=\"review-text-content\")[0].text.strip() # Review Text"
   ],
   "outputs": [
    {
     "output_type": "execute_result",
     "data": {
      "text/plain": [
       "\"Love, Love, Love this Roomba!  We have 3 cats and it picks up all the cat hair.  We have all wood and tile floors with some scatter rugs.  It does a great job cleaning on all surfaces.  Only negative, and I do not consider it a negative since we have 3 cats, is that we have to pause it a couple times during a cleaning cycle to empty the bin.  Without the cat hair, it would do a whole cycle before emptying.  We are seniors and it is so nice to sit in our recliners and have the Roomba do it's job. Another plus is that it will connect to our echo dot and so all we have to do is say Alexa start the Roomba.  Now if they make a model that can cook, we will be the first to buy it! LOL\""
      ]
     },
     "metadata": {},
     "execution_count": 14
    }
   ],
   "metadata": {}
  },
  {
   "cell_type": "code",
   "execution_count": null,
   "source": [],
   "outputs": [],
   "metadata": {}
  }
 ],
 "metadata": {
  "orig_nbformat": 4,
  "language_info": {
   "name": "python"
  }
 },
 "nbformat": 4,
 "nbformat_minor": 2
}