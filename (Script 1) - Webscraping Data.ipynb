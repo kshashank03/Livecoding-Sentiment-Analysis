{
 "cells": [
  {
   "cell_type": "markdown",
   "source": [
    "# Amazon Review Webscraper"
   ],
   "metadata": {}
  },
  {
   "cell_type": "markdown",
   "source": [
    "### Imports"
   ],
   "metadata": {}
  },
  {
   "cell_type": "code",
   "execution_count": 5,
   "source": [
    "import pandas as pd\n",
    "from bs4 import BeautifulSoup\n",
    "import requests\n",
    "import time\n",
    "from selenium.webdriver.chrome.options import Options\n",
    "from selenium import webdriver"
   ],
   "outputs": [],
   "metadata": {}
  },
  {
   "cell_type": "markdown",
   "source": [
    "### Web Scraper"
   ],
   "metadata": {}
  },
  {
   "cell_type": "code",
   "execution_count": 7,
   "source": [
    "test_url = \"https://www.amazon.com/iRobot-Vacuum-Wi-Fi-Connectivity-Carpets-Self-Charging/product-reviews/B08SP5GYJP/ref=cm_cr_getr_d_paging_btm_prev_1?ie=UTF8&pageNumber=1&reviewerType=all_reviews\"\n",
    "test_url_two = \"https://www.amazon.com/iRobot-Vacuum-Wi-Fi-Connectivity-Carpets-Self-Charging/product-reviews/B08SP5GYJP/ref=cm_cr_getr_d_paging_btm_prev_1?ie=UTF8&pageNumber=2&reviewerType=all_reviews\"\n",
    "\n",
    "test_url"
   ],
   "outputs": [
    {
     "output_type": "execute_result",
     "data": {
      "text/plain": [
       "'https://www.amazon.com/iRobot-Vacuum-Wi-Fi-Connectivity-Carpets-Self-Charging/product-reviews/B08SP5GYJP/ref=cm_cr_getr_d_paging_btm_prev_1?ie=UTF8&pageNumber=1&reviewerType=all_reviews'"
      ]
     },
     "metadata": {},
     "execution_count": 7
    }
   ],
   "metadata": {}
  },
  {
   "cell_type": "code",
   "execution_count": 4,
   "source": [
    "requests.get(test_url)"
   ],
   "outputs": [
    {
     "output_type": "execute_result",
     "data": {
      "text/plain": [
       "<Response [503]>"
      ]
     },
     "metadata": {},
     "execution_count": 4
    }
   ],
   "metadata": {}
  },
  {
   "cell_type": "code",
   "execution_count": 11,
   "source": [
    "for i in range(101, 201):\n",
    "\n",
    "    page_number = str(i)\n",
    "    previous_page = str(i - 1)\n",
    "    test_url = f\"https://www.amazon.com/iRobot-Vacuum-Wi-Fi-Connectivity-Carpets-Self-Charging/product-reviews/B08SP5GYJP/ref=cm_cr_getr_d_paging_btm_prev_{previous_page}?ie=UTF8&pageNumber={page_number}&reviewerType=all_reviews\"\n",
    "\n",
    "    driver_path = \"/Users/g42v/Desktop/chromedriver\"\n",
    "\n",
    "    wd = webdriver.Chrome(executable_path=driver_path)\n",
    "\n",
    "    wd.get(test_url)\n",
    "\n",
    "    time.sleep(1)\n",
    "\n",
    "    with open(f\"amazon_roomba_reviews/{page_number}.html\", 'w') as file:\n",
    "        file.write(wd.page_source)\n",
    "   \n",
    "    wd.quit()"
   ],
   "outputs": [],
   "metadata": {}
  },
  {
   "cell_type": "code",
   "execution_count": null,
   "source": [],
   "outputs": [],
   "metadata": {}
  }
 ],
 "metadata": {
  "orig_nbformat": 4,
  "language_info": {
   "name": "python"
  }
 },
 "nbformat": 4,
 "nbformat_minor": 2
}